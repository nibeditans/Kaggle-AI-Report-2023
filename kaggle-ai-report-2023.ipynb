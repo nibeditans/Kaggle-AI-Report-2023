{
 "cells": [
  {
   "cell_type": "code",
   "execution_count": 1,
   "id": "aa62d156",
   "metadata": {
    "_cell_guid": "b1076dfc-b9ad-4769-8c92-a6c4dae69d19",
    "_uuid": "8f2839f25d086af736a60e9eeb907d3b93b6e0e5",
    "execution": {
     "iopub.execute_input": "2023-06-29T15:35:40.828608Z",
     "iopub.status.busy": "2023-06-29T15:35:40.828209Z",
     "iopub.status.idle": "2023-06-29T15:35:40.842225Z",
     "shell.execute_reply": "2023-06-29T15:35:40.841092Z"
    },
    "papermill": {
     "duration": 0.024193,
     "end_time": "2023-06-29T15:35:40.844802",
     "exception": false,
     "start_time": "2023-06-29T15:35:40.820609",
     "status": "completed"
    },
    "tags": []
   },
   "outputs": [
    {
     "name": "stdout",
     "output_type": "stream",
     "text": [
      "/kaggle/input/2023-kaggle-ai-report/sample_submission.csv\n",
      "/kaggle/input/2023-kaggle-ai-report/arxiv_metadata_20230510.json\n",
      "/kaggle/input/2023-kaggle-ai-report/kaggle_writeups_20230510.csv\n"
     ]
    }
   ],
   "source": [
    "# This Python 3 environment comes with many helpful analytics libraries installed\n",
    "# It is defined by the kaggle/python Docker image: https://github.com/kaggle/docker-python\n",
    "# For example, here's several helpful packages to load\n",
    "\n",
    "import numpy as np # linear algebra\n",
    "import pandas as pd # data processing, CSV file I/O (e.g. pd.read_csv)\n",
    "\n",
    "# Input data files are available in the read-only \"../input/\" directory\n",
    "# For example, running this (by clicking run or pressing Shift+Enter) will list all files under the input directory\n",
    "\n",
    "import os\n",
    "for dirname, _, filenames in os.walk('/kaggle/input'):\n",
    "    for filename in filenames:\n",
    "        print(os.path.join(dirname, filename))\n",
    "\n",
    "# You can write up to 20GB to the current directory (/kaggle/working/) that gets preserved as output when you create a version using \"Save & Run All\" \n",
    "# You can also write temporary files to /kaggle/temp/, but they won't be saved outside of the current session"
   ]
  },
  {
   "cell_type": "markdown",
   "id": "2f854261",
   "metadata": {
    "papermill": {
     "duration": 0.005052,
     "end_time": "2023-06-29T15:35:40.855452",
     "exception": false,
     "start_time": "2023-06-29T15:35:40.850400",
     "status": "completed"
    },
    "tags": []
   },
   "source": [
    "# # # Generative AI"
   ]
  },
  {
   "cell_type": "markdown",
   "id": "bba826a8",
   "metadata": {
    "papermill": {
     "duration": 0.005028,
     "end_time": "2023-06-29T15:35:40.865799",
     "exception": false,
     "start_time": "2023-06-29T15:35:40.860771",
     "status": "completed"
    },
    "tags": []
   },
   "source": [
    "***Prompt: Describe what the community has learned over the past 2 years of working and experimenting with generative AI.***"
   ]
  },
  {
   "cell_type": "markdown",
   "id": "11b1608f",
   "metadata": {
    "papermill": {
     "duration": 0.004957,
     "end_time": "2023-06-29T15:35:40.875950",
     "exception": false,
     "start_time": "2023-06-29T15:35:40.870993",
     "status": "completed"
    },
    "tags": []
   },
   "source": [
    "**Introduction:**\n",
    "In recent years, generative AI has emerged as a fascinating and rapidly evolving field that has captured the imagination of researchers and practitioners worldwide. With its ability to create new and original content, generative AI has sparked countless possibilities across various domains, from art and music to text and image generation. This essay aims to explore the key learnings and insights gained by the community over the past two years of working and experimenting with generative AI."
   ]
  },
  {
   "cell_type": "markdown",
   "id": "74a1aebe",
   "metadata": {
    "papermill": {
     "duration": 0.005014,
     "end_time": "2023-06-29T15:35:40.886267",
     "exception": false,
     "start_time": "2023-06-29T15:35:40.881253",
     "status": "completed"
    },
    "tags": []
   },
   "source": [
    "# 1. Ethical considerations:\n",
    "As generative AI continues to advance, the community has become increasingly aware of the ethical considerations associated with its applications. One significant concern is the potential misuse of generative AI for creating deepfakes or generating misleading information. This has prompted researchers to delve into the development of techniques for detecting and mitigating such risks. The community has recognized the importance of responsible use and the need for clear guidelines to prevent the misuse of generative AI."
   ]
  },
  {
   "cell_type": "markdown",
   "id": "cc041ce7",
   "metadata": {
    "papermill": {
     "duration": 0.004957,
     "end_time": "2023-06-29T15:35:40.896396",
     "exception": false,
     "start_time": "2023-06-29T15:35:40.891439",
     "status": "completed"
    },
    "tags": []
   },
   "source": [
    "# 2. Data quality and diversity:\n",
    "The quality and diversity of the training data have been identified as crucial factors in the performance and generalization capabilities of generative AI models. Over the past two years, the community has realized the significance of well-curated, diverse, and representative datasets to train robust generative models. Researchers have focused on improving data collection methods, ensuring data privacy, and addressing bias issues to enhance the overall quality and fairness of generative AI systems.\n",
    "\n"
   ]
  },
  {
   "cell_type": "markdown",
   "id": "eb796d8f",
   "metadata": {
    "papermill": {
     "duration": 0.005063,
     "end_time": "2023-06-29T15:35:40.908187",
     "exception": false,
     "start_time": "2023-06-29T15:35:40.903124",
     "status": "completed"
    },
    "tags": []
   },
   "source": [
    "# 3. Adversarial attacks and defenses:\n",
    "Generative AI models are susceptible to adversarial attacks, where malicious actors manipulate input data to deceive or mislead the models' outputs. Researchers have devoted considerable effort to understanding and mitigating such attacks. Techniques such as adversarial training and robust optimization have been explored to enhance the resilience of generative AI models against adversarial manipulation. The community has also emphasized the importance of developing reliable defense mechanisms to safeguard against potential threats."
   ]
  },
  {
   "cell_type": "markdown",
   "id": "17363cf7",
   "metadata": {
    "papermill": {
     "duration": 0.005012,
     "end_time": "2023-06-29T15:35:40.918470",
     "exception": false,
     "start_time": "2023-06-29T15:35:40.913458",
     "status": "completed"
    },
    "tags": []
   },
   "source": [
    "|Adversarial Attack      | Description |\n",
    "|------------------------|------------------------------|\n",
    "| Deepfake Generation    |Creating realistic but fake                                videos/images of people      |\n",
    "| Text Poisoning         |Injecting malicious content to                            manipulate generated text    |\n",
    "| Image Perturbation     |Adding imperceptible noise to                              deceive image recognition                                models                       |\n",
    "| Input Manipulation     |Altering input data to produce                            desired output               |"
   ]
  },
  {
   "cell_type": "markdown",
   "id": "c19ab9bc",
   "metadata": {
    "papermill": {
     "duration": 0.005003,
     "end_time": "2023-06-29T15:35:40.928819",
     "exception": false,
     "start_time": "2023-06-29T15:35:40.923816",
     "status": "completed"
    },
    "tags": []
   },
   "source": [
    "|Defense Technique       | Description |\n",
    "|------------------------|------------------------------|\n",
    "| Adversarial Training   |Incorporating adversarial                                  examples during training to                              improve model robustness     |\n",
    "| Defense-GANs           |Using generative models to                                detect and filter out                                    adversarial inputs           |\n",
    "| Gradient Masking       |Concealing model gradients to                              prevent adversarial attacks  |\n",
    "| Certified Defense      |Mathematically verifying the                              robustness of generative AI                              models                       |"
   ]
  },
  {
   "cell_type": "markdown",
   "id": "33176cf3",
   "metadata": {
    "papermill": {
     "duration": 0.005624,
     "end_time": "2023-06-29T15:35:40.939760",
     "exception": false,
     "start_time": "2023-06-29T15:35:40.934136",
     "status": "completed"
    },
    "tags": []
   },
   "source": [
    "# 4. Interpretable and controllable generation:\n",
    "While generative AI has achieved remarkable success in generating realistic content, the lack of interpretability and control has been a challenge. Over the past two years, the community has made significant strides in developing techniques to enable users to understand and control the generative process. Methods such as conditional generation, latent space manipulation, and attention mechanisms have been explored to provide users with more fine-grained control over the generated outputs, opening up new avenues for interactive and personalized generative AI applications."
   ]
  },
  {
   "cell_type": "markdown",
   "id": "8382867c",
   "metadata": {
    "papermill": {
     "duration": 0.004994,
     "end_time": "2023-06-29T15:35:40.950057",
     "exception": false,
     "start_time": "2023-06-29T15:35:40.945063",
     "status": "completed"
    },
    "tags": []
   },
   "source": [
    "# 5. Transfer learning and few-shot generation:\n",
    "Transfer learning and few-shot generation have emerged as crucial techniques to overcome the limitations of limited data availability in certain domains. The community has recognized the potential of pre-training generative models on large-scale datasets and fine-tuning them on specific tasks. This approach enables the models to leverage prior knowledge and generalize well to new data with limited samples. Transfer learning and few-shot generation techniques have gained traction, allowing generative AI to be applied effectively in scenarios where data scarcity is a challenge."
   ]
  },
  {
   "cell_type": "markdown",
   "id": "84aeb92e",
   "metadata": {
    "papermill": {
     "duration": 0.004959,
     "end_time": "2023-06-29T15:35:40.960223",
     "exception": false,
     "start_time": "2023-06-29T15:35:40.955264",
     "status": "completed"
    },
    "tags": []
   },
   "source": [
    "# Another one is Text generation: \n",
    "Text generation is the undertaking of manufacturing herbal language textual content from a given enter, including a set off, a keyword, a summary, or an picture. Text era may be used for various applications, including writing stories, poems, essays, captions, headlines, summaries, opinions, chatbots, or code. One of the maximum awesome examples of text technology is GPT-3, a deep neural network model that may generate coherent and numerous textual content on almost any topic, given some words or sentences as enter. \n",
    "\n",
    "GPT-3 is educated on a large corpus of textual content from the internet, and can leverage its trendy understanding and language capabilities to supply practical and applicable textual content. GPT-three has proven spectacular results in numerous domains and tasks, together with answering questions, writing innovative fiction, generating code, or growing chatbots. \n",
    "\n",
    "However, GPT-3 additionally has a few barriers and challenges, along with producing authentic mistakes, exhibiting biases, lacking commonplace feel, or being misused for malicious functions. Therefore, textual content technology requires careful evaluation and moral issues before being deployed in real-global situations.\n"
   ]
  },
  {
   "cell_type": "markdown",
   "id": "b90aed03",
   "metadata": {
    "papermill": {
     "duration": 0.004967,
     "end_time": "2023-06-29T15:35:40.970609",
     "exception": false,
     "start_time": "2023-06-29T15:35:40.965642",
     "status": "completed"
    },
    "tags": []
   },
   "source": [
    "# Summary of everything"
   ]
  },
  {
   "cell_type": "markdown",
   "id": "2b41e86e",
   "metadata": {
    "papermill": {
     "duration": 0.004998,
     "end_time": "2023-06-29T15:35:40.981121",
     "exception": false,
     "start_time": "2023-06-29T15:35:40.976123",
     "status": "completed"
    },
    "tags": []
   },
   "source": [
    "In the past two years, the generative AI community has gained valuable insights into various aspects of this rapidly evolving field. Ethical considerations, data quality and diversity, adversarial attacks and defenses, interpretable and controllable generation, as well as transfer learning and few-shot generation techniques, have all seen significant progress. The lessons learned have helped shape the development and deployment of generative AI models in a more responsible, robust, and user-centric manner. Looking ahead, these insights will undoubtedly guide further advancements in generative AI, leading to even more exciting and impactful applications across diverse domains."
   ]
  },
  {
   "cell_type": "code",
   "execution_count": 2,
   "id": "e4cb3c3b",
   "metadata": {
    "execution": {
     "iopub.execute_input": "2023-06-29T15:35:40.993764Z",
     "iopub.status.busy": "2023-06-29T15:35:40.993027Z",
     "iopub.status.idle": "2023-06-29T15:35:42.011154Z",
     "shell.execute_reply": "2023-06-29T15:35:42.010208Z"
    },
    "papermill": {
     "duration": 1.027163,
     "end_time": "2023-06-29T15:35:42.013656",
     "exception": false,
     "start_time": "2023-06-29T15:35:40.986493",
     "status": "completed"
    },
    "tags": []
   },
   "outputs": [
    {
     "name": "stdout",
     "output_type": "stream",
     "text": [
      "                        Title of Writeup  \\\n",
      "0  Released: my Source Code and Analysis   \n",
      "1           6th place(UriB) by Uri Blass   \n",
      "2                 7th place - littlefish   \n",
      "3      3rd place: Chessmetrics - Variant   \n",
      "4      2nd place: TrueSkill Through Time   \n",
      "\n",
      "                                             Writeup  \\\n",
      "0  <p>I had a lot of fun with this competition an...   \n",
      "1  <P>I calculated rating for every player in mon...   \n",
      "2  I'm a little surprised I ended up in the top-1...   \n",
      "3  <p><span id=\"post_text_content_1230\"><div dir=...   \n",
      "4  Wow, this is a surprise! I looked at this comp...   \n",
      "\n",
      "                                    Writeup URL  \n",
      "0  https://www.kaggle.com/c/2447/discussion/185  \n",
      "1  https://www.kaggle.com/c/2447/discussion/192  \n",
      "2  https://www.kaggle.com/c/2447/discussion/194  \n",
      "3  https://www.kaggle.com/c/2447/discussion/193  \n",
      "4  https://www.kaggle.com/c/2447/discussion/186  \n"
     ]
    }
   ],
   "source": [
    "import pandas as pd\n",
    "\n",
    "# Load the CSV file\n",
    "data = pd.read_csv('/kaggle/input/2023-kaggle-ai-report/kaggle_writeups_20230510.csv')\n",
    "\n",
    "# Select the desired columns\n",
    "processed_data = data[['Title of Writeup', 'Writeup', 'Writeup URL']]\n",
    "\n",
    "# Display the first 5 rows of the processed data\n",
    "print(processed_data.head())\n",
    "\n",
    "# Save the processed data to a new CSV file\n",
    "processed_data.to_csv('/kaggle/working/processed_data.csv', index=False)\n"
   ]
  },
  {
   "cell_type": "code",
   "execution_count": 3,
   "id": "31808b7f",
   "metadata": {
    "execution": {
     "iopub.execute_input": "2023-06-29T15:35:42.027407Z",
     "iopub.status.busy": "2023-06-29T15:35:42.026404Z",
     "iopub.status.idle": "2023-06-29T15:35:42.033820Z",
     "shell.execute_reply": "2023-06-29T15:35:42.032755Z"
    },
    "papermill": {
     "duration": 0.016633,
     "end_time": "2023-06-29T15:35:42.036097",
     "exception": false,
     "start_time": "2023-06-29T15:35:42.019464",
     "status": "completed"
    },
    "tags": []
   },
   "outputs": [
    {
     "data": {
      "text/plain": [
       "Index(['Competition Launch Date', 'Title of Competition', 'Competition URL',\n",
       "       'Date of Writeup', 'Title of Writeup', 'Writeup', 'Writeup URL'],\n",
       "      dtype='object')"
      ]
     },
     "execution_count": 3,
     "metadata": {},
     "output_type": "execute_result"
    }
   ],
   "source": [
    "data.columns"
   ]
  },
  {
   "cell_type": "code",
   "execution_count": 4,
   "id": "ca28f2fe",
   "metadata": {
    "execution": {
     "iopub.execute_input": "2023-06-29T15:35:42.049268Z",
     "iopub.status.busy": "2023-06-29T15:35:42.048882Z",
     "iopub.status.idle": "2023-06-29T15:35:42.074524Z",
     "shell.execute_reply": "2023-06-29T15:35:42.073432Z"
    },
    "papermill": {
     "duration": 0.034954,
     "end_time": "2023-06-29T15:35:42.076958",
     "exception": false,
     "start_time": "2023-06-29T15:35:42.042004",
     "status": "completed"
    },
    "tags": []
   },
   "outputs": [
    {
     "data": {
      "text/html": [
       "<div>\n",
       "<style scoped>\n",
       "    .dataframe tbody tr th:only-of-type {\n",
       "        vertical-align: middle;\n",
       "    }\n",
       "\n",
       "    .dataframe tbody tr th {\n",
       "        vertical-align: top;\n",
       "    }\n",
       "\n",
       "    .dataframe thead th {\n",
       "        text-align: right;\n",
       "    }\n",
       "</style>\n",
       "<table border=\"1\" class=\"dataframe\">\n",
       "  <thead>\n",
       "    <tr style=\"text-align: right;\">\n",
       "      <th></th>\n",
       "      <th>type</th>\n",
       "      <th>value</th>\n",
       "    </tr>\n",
       "  </thead>\n",
       "  <tbody>\n",
       "    <tr>\n",
       "      <th>0</th>\n",
       "      <td>essay_category</td>\n",
       "      <td>'copy/paste the exact category that you are su...</td>\n",
       "    </tr>\n",
       "    <tr>\n",
       "      <th>1</th>\n",
       "      <td>essay_url</td>\n",
       "      <td>'http://www.kaggle.com/your_username/your_note...</td>\n",
       "    </tr>\n",
       "    <tr>\n",
       "      <th>2</th>\n",
       "      <td>feedback1_url</td>\n",
       "      <td>'http://www.kaggle.com/.../your_1st_peer_feedb...</td>\n",
       "    </tr>\n",
       "    <tr>\n",
       "      <th>3</th>\n",
       "      <td>feedback2_url</td>\n",
       "      <td>'http://www.kaggle.com/.../your_2nd_peer_feedb...</td>\n",
       "    </tr>\n",
       "    <tr>\n",
       "      <th>4</th>\n",
       "      <td>feedback3_url</td>\n",
       "      <td>'http://www.kaggle.com/.../your_3rd_peer_feedb...</td>\n",
       "    </tr>\n",
       "  </tbody>\n",
       "</table>\n",
       "</div>"
      ],
      "text/plain": [
       "             type                                              value\n",
       "0  essay_category  'copy/paste the exact category that you are su...\n",
       "1       essay_url  'http://www.kaggle.com/your_username/your_note...\n",
       "2   feedback1_url  'http://www.kaggle.com/.../your_1st_peer_feedb...\n",
       "3   feedback2_url  'http://www.kaggle.com/.../your_2nd_peer_feedb...\n",
       "4   feedback3_url  'http://www.kaggle.com/.../your_3rd_peer_feedb..."
      ]
     },
     "execution_count": 4,
     "metadata": {},
     "output_type": "execute_result"
    }
   ],
   "source": [
    "submission_data = pd.read_csv('/kaggle/input/2023-kaggle-ai-report/sample_submission.csv')\n",
    "submission_data.to_csv('/kaggle/working/processed_data.csv', index=False)\n",
    "submission_data.head()"
   ]
  },
  {
   "cell_type": "markdown",
   "id": "017aa8a9",
   "metadata": {
    "papermill": {
     "duration": 0.005625,
     "end_time": "2023-06-29T15:35:42.088763",
     "exception": false,
     "start_time": "2023-06-29T15:35:42.083138",
     "status": "completed"
    },
    "tags": []
   },
   "source": [
    "One thing we've realized is that the quality and diversity of the data we use to train our generative models is super important. The better the data, the better the results. So, we've been putting a lot of effort into collecting diverse and representative datasets while also ensuring data privacy and addressing any biases that might creep in."
   ]
  },
  {
   "cell_type": "markdown",
   "id": "7c4f5c45",
   "metadata": {
    "papermill": {
     "duration": 0.005617,
     "end_time": "2023-06-29T15:35:42.100176",
     "exception": false,
     "start_time": "2023-06-29T15:35:42.094559",
     "status": "completed"
    },
    "tags": []
   },
   "source": [
    "Now, let's talk about those sneaky adversarial attacks. Yeah, those troublemakers have been trying to fool our generative models, but we're not letting them get away with it. We want users to have more say in what gets generated and to understand how the magic happens. It's all about making it interactive and personalized.\n",
    "\n",
    "While efforts have been made to provide accurate and up-to-date information, the field of generative AI is constantly evolving, and new developments may have occurred. Additionally, it is essential to approach generative AI with ethical considerations and responsible usage to mitigate potential risks and ensure the technology's positive impact on society.\n",
    "\n",
    "Also, let's be responsible and use this technology for good, okay? No funny business."
   ]
  }
 ],
 "metadata": {
  "kernelspec": {
   "display_name": "Python 3",
   "language": "python",
   "name": "python3"
  },
  "language_info": {
   "codemirror_mode": {
    "name": "ipython",
    "version": 3
   },
   "file_extension": ".py",
   "mimetype": "text/x-python",
   "name": "python",
   "nbconvert_exporter": "python",
   "pygments_lexer": "ipython3",
   "version": "3.10.10"
  },
  "papermill": {
   "default_parameters": {},
   "duration": 13.761162,
   "end_time": "2023-06-29T15:35:42.928421",
   "environment_variables": {},
   "exception": null,
   "input_path": "__notebook__.ipynb",
   "output_path": "__notebook__.ipynb",
   "parameters": {},
   "start_time": "2023-06-29T15:35:29.167259",
   "version": "2.4.0"
  }
 },
 "nbformat": 4,
 "nbformat_minor": 5
}
